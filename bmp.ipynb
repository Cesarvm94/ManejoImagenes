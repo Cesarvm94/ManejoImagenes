{
 "cells": [
  {
   "cell_type": "code",
   "execution_count": null,
   "metadata": {},
   "outputs": [],
   "source": []
  },
  {
   "cell_type": "code",
   "execution_count": null,
   "metadata": {},
   "outputs": [],
   "source": []
  },
  {
   "cell_type": "code",
   "execution_count": 2,
   "metadata": {},
   "outputs": [],
   "source": [
    "import numpy as np\n",
    "from PIL import Image\n",
    "\n",
    "im = Image.open(\"lena.bmp\")\n",
    "na = np.array(im)\n",
    "na1 = np.array(im)\n",
    "kernel = np.array([[0, -1, 0], [-1, 5, -1], [0, -1 ,0]])\n",
    "height=512\n",
    "unpaddedRowSize=512\n",
    "for i in range(1,height-1):\n",
    "    for j in range(1,unpaddedRowSize-1):\n",
    "        na1[i][j]=na[i-1][j-1]*kernel[0][0]+na[i-1][j]*kernel[0][1]+na[i-1][j+1]*kernel[0][2]+na[i][j-1]*kernel[1][0]+na[i][j]*kernel[1][1]+na[i][j+1]*kernel[1][2]+na[i+1][j-1]*kernel[2][0]+na[i+1][j]*kernel[2][1]+na[i+1][j+1]*kernel[2][2]\n",
    "Image.fromarray(na1).save(\"result.png\")"
   ]
  },
  {
   "cell_type": "code",
   "execution_count": null,
   "metadata": {},
   "outputs": [],
   "source": []
  }
 ],
 "metadata": {
  "kernelspec": {
   "display_name": "Python 3",
   "language": "python",
   "name": "python3"
  },
  "language_info": {
   "codemirror_mode": {
    "name": "ipython",
    "version": 3
   },
   "file_extension": ".py",
   "mimetype": "text/x-python",
   "name": "python",
   "nbconvert_exporter": "python",
   "pygments_lexer": "ipython3",
   "version": "3.7.6"
  }
 },
 "nbformat": 4,
 "nbformat_minor": 4
}
